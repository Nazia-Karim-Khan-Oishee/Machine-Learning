{
  "nbformat": 4,
  "nbformat_minor": 0,
  "metadata": {
    "colab": {
      "provenance": []
    },
    "kernelspec": {
      "name": "python3",
      "display_name": "Python 3"
    },
    "language_info": {
      "name": "python"
    }
  },
  "cells": [
    {
      "cell_type": "markdown",
      "source": [
        "3.1 Matrix Multiplication"
      ],
      "metadata": {
        "id": "NnmnwTdOaERo"
      }
    },
    {
      "cell_type": "markdown",
      "source": [
        "Task 1:\n",
        "x and y are 2 2x2 matrix.\n",
        "z=x.dot(y) performs matrix multiplication between matrix x and matrix y."
      ],
      "metadata": {
        "id": "TJcBBf0PZ6a8"
      }
    },
    {
      "cell_type": "code",
      "execution_count": null,
      "metadata": {
        "colab": {
          "base_uri": "https://localhost:8080/"
        },
        "id": "uhvCAWZbXGx9",
        "outputId": "15ba8699-ce10-48f3-9a4e-fefc6f6d1c4f"
      },
      "outputs": [
        {
          "output_type": "stream",
          "name": "stdout",
          "text": [
            "Matrix x: \n",
            "[[22 16]\n",
            " [22 26]]\n",
            "\n",
            "Matrix y: \n",
            "[[ 2 21]\n",
            " [ 5 10]]\n",
            "\n",
            "Result of matrix multiplication: \n",
            "[[124 622]\n",
            " [174 722]]\n"
          ]
        }
      ],
      "source": [
        "import numpy as np\n",
        "\n",
        "x=np.random.randint(1,50,(2,2))\n",
        "y=np.random.randint(1,40,(2,2))\n",
        "\n",
        "print('Matrix x: ')\n",
        "print(x)\n",
        "print()\n",
        "\n",
        "print('Matrix y: ')\n",
        "print(y)\n",
        "print()\n",
        "\n",
        "print('Result of matrix multiplication: ')\n",
        "z=x.dot(y)\n",
        "print(z)"
      ]
    },
    {
      "cell_type": "markdown",
      "source": [
        "Task 2:\n",
        "In this task, I have used nested loops to iterate through the rows of C, columns of D and rows of D. This multiplication produces the result manually.\n",
        "I have also used dot function and both the result are same."
      ],
      "metadata": {
        "id": "gKwdGREGaJaQ"
      }
    },
    {
      "cell_type": "code",
      "source": [
        "import numpy as np\n",
        "\n",
        "C=np.random.randint(1,20,(3,3))\n",
        "D=np.random.randint(1,10,(3,4))\n",
        "\n",
        "manual_multiplication=np.array([[0,0,0,0],[0,0,0,0],[0,0,0,0]])\n",
        "\n",
        "# iterate through rows of C\n",
        "for i in range(len(D)):\n",
        "   # iterate through columns of D\n",
        "   for j in range(len(D[0])):\n",
        "       # iterate through rows of D\n",
        "       for k in range(len(D)):\n",
        "           manual_multiplication[i][j] += C[i][k] * D[k][j]\n",
        "\n",
        "\n",
        "print(np.array(manual_multiplication))\n",
        "print()\n",
        "\n",
        "dot_result=C.dot(D)\n",
        "print(np.array(dot_result))\n",
        "print()\n",
        "\n",
        "verify_result = np.array_equal(manual_multiplication, dot_result)\n",
        "print('Both multiplication results are', 'equal' if verify_result else 'not equal')\n",
        "\n",
        "\n"
      ],
      "metadata": {
        "colab": {
          "base_uri": "https://localhost:8080/"
        },
        "id": "3iHxrY95Z6Bp",
        "outputId": "b63d729a-62d4-455f-c6db-a23d84a5ca0b"
      },
      "execution_count": null,
      "outputs": [
        {
          "output_type": "stream",
          "name": "stdout",
          "text": [
            "[[252 156 122 276]\n",
            " [262 116 119 266]\n",
            " [235 191 149 329]]\n",
            "\n",
            "[[252 156 122 276]\n",
            " [262 116 119 266]\n",
            " [235 191 149 329]]\n",
            "\n",
            "Both multiplication results are equal\n"
          ]
        }
      ]
    },
    {
      "cell_type": "markdown",
      "source": [
        "Task 3:\n",
        "In this task, I have used .transpose() function to determine the transpose matrix of A."
      ],
      "metadata": {
        "id": "hRnR2kYIiP0d"
      }
    },
    {
      "cell_type": "code",
      "source": [
        "import numpy as np\n",
        "\n",
        "A=np.random.randint(1,20,(3,3))\n",
        "A_Transpose = A.transpose()\n",
        "\n",
        "print(A)\n",
        "print()\n",
        "print(A_Transpose)\n",
        "print()\n",
        "print('ATA = ')\n",
        "print(A_Transpose.dot(A))\n"
      ],
      "metadata": {
        "colab": {
          "base_uri": "https://localhost:8080/"
        },
        "id": "ht-nmHdhiSwC",
        "outputId": "a9f700ac-5b93-479b-839e-1a67a7d2c254"
      },
      "execution_count": null,
      "outputs": [
        {
          "output_type": "stream",
          "name": "stdout",
          "text": [
            "[[12 11  5]\n",
            " [ 4  1 10]\n",
            " [ 5 18  9]]\n",
            "\n",
            "[[12  4  5]\n",
            " [11  1 18]\n",
            " [ 5 10  9]]\n",
            "\n",
            "ATA = \n",
            "[[185 226 145]\n",
            " [226 446 227]\n",
            " [145 227 206]]\n"
          ]
        }
      ]
    },
    {
      "cell_type": "markdown",
      "source": [
        "Task 4:\n",
        "I have used the dot function to performs matrix multiplication between matrices B and A. The dimensions of the resuktibg matrix is obtained using the .shape function.\n"
      ],
      "metadata": {
        "id": "m3tcAX1mkAKL"
      }
    },
    {
      "cell_type": "code",
      "source": [
        "import numpy as np\n",
        "\n",
        "B=np.random.randint(1,20,(4,3))\n",
        "A=np.random.randint(1,20,(3,2))\n",
        "\n",
        "BxA = B.dot(A)\n",
        "print(BxA)\n",
        "print()\n",
        "\n",
        "print('The dimensions of the resulting matrix:', np.shape(BxA))"
      ],
      "metadata": {
        "colab": {
          "base_uri": "https://localhost:8080/"
        },
        "id": "a12yl7IekCLv",
        "outputId": "5a7533d2-4a18-495d-c383-6ed84fee58c4"
      },
      "execution_count": null,
      "outputs": [
        {
          "output_type": "stream",
          "name": "stdout",
          "text": [
            "[[255 262]\n",
            " [136 171]\n",
            " [155 232]\n",
            " [192 197]]\n",
            "\n",
            "The dimensions of the resulting matrix: (4, 2)\n"
          ]
        }
      ]
    },
    {
      "cell_type": "markdown",
      "source": [
        "Task 5:\n",
        "In the task below, it is showed that in general A·B ̸= B·A."
      ],
      "metadata": {
        "id": "FEjk__IQltt9"
      }
    },
    {
      "cell_type": "code",
      "source": [
        "import numpy as np\n",
        "\n",
        "A=np.random.randint(1,20,(3,3))\n",
        "B=np.random.randint(1,10,(3,3))\n",
        "\n",
        "AxB = A.dot(B)\n",
        "print('AxB =')\n",
        "print(AxB)\n",
        "print()\n",
        "\n",
        "BxA = B.dot(A)\n",
        "print('BxA =')\n",
        "print(BxA)\n",
        "print()\n",
        "\n",
        "verify_result = np.array_equal(AxB , BxA)\n",
        "print('Both multiplication results are', 'equal' if verify_result else 'not equal')\n",
        "\n",
        "\n"
      ],
      "metadata": {
        "colab": {
          "base_uri": "https://localhost:8080/"
        },
        "id": "7FTsrMnElvIL",
        "outputId": "30204b17-7160-449a-aa23-be9350ef3ea5"
      },
      "execution_count": null,
      "outputs": [
        {
          "output_type": "stream",
          "name": "stdout",
          "text": [
            "AxB =\n",
            "[[151  80 279]\n",
            " [ 87  52 162]\n",
            " [175 131 360]]\n",
            "\n",
            "BxA =\n",
            "[[187 274 180]\n",
            " [164 237 163]\n",
            " [141 178 139]]\n",
            "\n",
            "Both multiplication results are not equal\n"
          ]
        }
      ]
    },
    {
      "cell_type": "markdown",
      "source": [
        "3.2 Introduction to Python"
      ],
      "metadata": {
        "id": "ZzsyYQN9n3yi"
      }
    },
    {
      "cell_type": "markdown",
      "source": [
        "Task 1:\n",
        "In this task, I have defined the URL of the Iris dataset and send an HTTP GET request to retrieve its content. After ensuring that the request was successful (response.status_code == 200), I saved the content to a local CSV file named \"iris_dataset.csv\".\n",
        "\n",
        "Then I performed methods for data analysis.\n",
        "\n",
        "I also used files.download() to download the CSV file in my laptop."
      ],
      "metadata": {
        "id": "gYysgJDzn4nV"
      }
    },
    {
      "cell_type": "code",
      "source": [
        "import pandas as pd\n",
        "import requests\n",
        "from google.colab import files\n",
        "\n",
        "# URL of the Iris dataset in CSV format\n",
        "url = \"https://archive.ics.uci.edu/ml/machine-learning-databases/iris/iris.data\"\n",
        "\n",
        "response = requests.get(url)\n",
        "\n",
        "if response.status_code == 200:\n",
        "    with open(\"iris_dataset.csv\", \"w\") as file:\n",
        "        file.write(response.text)\n",
        "        print(\"Iris dataset downloaded as iris_dataset.csv\")\n",
        "\n",
        "    column_names = [\"sepal_length\", \"sepal_width\", \"petal_length\", \"petal_width\", \"class\"]\n",
        "    iris_df = pd.read_csv(\"iris_dataset.csv\", names=column_names)\n",
        "\n",
        "    # Examine the DataFrame\n",
        "    print(\"First few rows of the DataFrame:\")\n",
        "    print(iris_df.head())\n",
        "    print()\n",
        "    print(\"Last few rows of the DataFrame:\")\n",
        "    print(iris_df.tail())\n",
        "    print()\n",
        "\n",
        "    print(\"Shape of the DataFrame:\", iris_df.shape)\n",
        "    print()\n",
        "\n",
        "    print(\"Data types of columns:\" , iris_df.dtypes)\n",
        "    print()\n",
        "\n",
        "    print(\"DataFrame Description:\")\n",
        "    print(iris_df.describe())\n",
        "    print()\n",
        "\n",
        "    print(\"Mean of Each Column:\")\n",
        "    print(iris_df.mean(numeric_only=True))\n",
        "    print()\n",
        "\n",
        "    # Group the DataFrame by a column\n",
        "    print(\"grouped_by_sepal_length\")\n",
        "    grouped_by_sepal_length = iris_df.groupby(\"sepal_length\")\n",
        "    list_of_cols = [\"sepal_width\", \"petal_length\", \"petal_width\"]\n",
        "    print(grouped_by_sepal_length[list_of_cols].mean())\n",
        "    print()\n",
        "\n",
        "    # Sort the DataFrame by a column\n",
        "    print(\"sorted_by_sepal_width\")\n",
        "    sorted_by_sepal_width = iris_df.sort_values(by=\"sepal_width\")\n",
        "    print(sorted_by_sepal_width)\n",
        "    print()\n",
        "\n",
        "    # Plot the DataFrame\n",
        "    iris_df.plot(kind=\"scatter\", x=\"sepal_length\", y=\"sepal_width\")\n",
        "    print()\n",
        "\n",
        "    # Access rows using .loc\n",
        "    print(\"Access Rows Using .loc:\")\n",
        "    print(iris_df.loc[0:5])\n",
        "    print()\n",
        "\n",
        "    # Access rows using .iloc\n",
        "    print(\"\\nAccess Rows Using .iloc:\")\n",
        "    print(iris_df.iloc[0:5])\n",
        "    print()\n",
        "\n",
        "    #download the CSV file in laptop\n",
        "    files.download(\"iris_dataset.csv\")\n",
        "\n",
        "else:\n",
        "  print(\"Failed to download the dataset\")\n",
        "\n"
      ],
      "metadata": {
        "colab": {
          "base_uri": "https://localhost:8080/",
          "height": 1000
        },
        "id": "CQ5G3Wjjn6JP",
        "outputId": "ee65cc1f-b919-4f58-d401-c50dbc73880c"
      },
      "execution_count": null,
      "outputs": [
        {
          "output_type": "stream",
          "name": "stdout",
          "text": [
            "Iris dataset downloaded as iris_dataset.csv\n",
            "First few rows of the DataFrame:\n",
            "   sepal_length  sepal_width  petal_length  petal_width        class\n",
            "0           5.1          3.5           1.4          0.2  Iris-setosa\n",
            "1           4.9          3.0           1.4          0.2  Iris-setosa\n",
            "2           4.7          3.2           1.3          0.2  Iris-setosa\n",
            "3           4.6          3.1           1.5          0.2  Iris-setosa\n",
            "4           5.0          3.6           1.4          0.2  Iris-setosa\n",
            "\n",
            "Last few rows of the DataFrame:\n",
            "     sepal_length  sepal_width  petal_length  petal_width           class\n",
            "145           6.7          3.0           5.2          2.3  Iris-virginica\n",
            "146           6.3          2.5           5.0          1.9  Iris-virginica\n",
            "147           6.5          3.0           5.2          2.0  Iris-virginica\n",
            "148           6.2          3.4           5.4          2.3  Iris-virginica\n",
            "149           5.9          3.0           5.1          1.8  Iris-virginica\n",
            "\n",
            "Shape of the DataFrame: (150, 5)\n",
            "\n",
            "Data types of columns: sepal_length    float64\n",
            "sepal_width     float64\n",
            "petal_length    float64\n",
            "petal_width     float64\n",
            "class            object\n",
            "dtype: object\n",
            "\n",
            "DataFrame Description:\n",
            "       sepal_length  sepal_width  petal_length  petal_width\n",
            "count    150.000000   150.000000    150.000000   150.000000\n",
            "mean       5.843333     3.054000      3.758667     1.198667\n",
            "std        0.828066     0.433594      1.764420     0.763161\n",
            "min        4.300000     2.000000      1.000000     0.100000\n",
            "25%        5.100000     2.800000      1.600000     0.300000\n",
            "50%        5.800000     3.000000      4.350000     1.300000\n",
            "75%        6.400000     3.300000      5.100000     1.800000\n",
            "max        7.900000     4.400000      6.900000     2.500000\n",
            "\n",
            "Mean of Each Column:\n",
            "sepal_length    5.843333\n",
            "sepal_width     3.054000\n",
            "petal_length    3.758667\n",
            "petal_width     1.198667\n",
            "dtype: float64\n",
            "\n",
            "grouped_by_sepal_length\n",
            "              sepal_width  petal_length  petal_width\n",
            "sepal_length                                        \n",
            "4.3              3.000000      1.100000     0.100000\n",
            "4.4              3.033333      1.333333     0.200000\n",
            "4.5              2.300000      1.300000     0.300000\n",
            "4.6              3.325000      1.325000     0.225000\n",
            "4.7              3.200000      1.450000     0.200000\n",
            "4.8              3.180000      1.580000     0.200000\n",
            "4.9              2.866667      2.283333     0.533333\n",
            "5.0              3.120000      1.840000     0.430000\n",
            "5.1              3.477778      1.722222     0.400000\n",
            "5.2              3.425000      2.075000     0.475000\n",
            "5.3              3.700000      1.500000     0.200000\n",
            "5.4              3.550000      2.033333     0.516667\n",
            "5.5              2.842857      3.228571     0.900000\n",
            "5.6              2.816667      4.200000     1.416667\n",
            "5.7              3.100000      3.587500     1.100000\n",
            "5.8              2.885714      4.071429     1.400000\n",
            "5.9              3.066667      4.700000     1.700000\n",
            "6.0              2.733333      4.650000     1.500000\n",
            "6.1              2.850000      4.750000     1.416667\n",
            "6.2              2.825000      4.750000     1.725000\n",
            "6.3              2.855556      5.133333     1.811111\n",
            "6.4              2.957143      5.157143     1.871429\n",
            "6.5              3.000000      5.240000     1.900000\n",
            "6.6              2.950000      4.500000     1.350000\n",
            "6.7              3.050000      5.262500     1.962500\n",
            "6.8              3.000000      5.400000     1.933333\n",
            "6.9              3.125000      5.275000     2.050000\n",
            "7.0              3.200000      4.700000     1.400000\n",
            "7.1              3.000000      5.900000     2.100000\n",
            "7.2              3.266667      5.966667     1.966667\n",
            "7.3              2.900000      6.300000     1.800000\n",
            "7.4              2.800000      6.100000     1.900000\n",
            "7.6              3.000000      6.600000     2.100000\n",
            "7.7              3.050000      6.600000     2.200000\n",
            "7.9              3.800000      6.400000     2.000000\n",
            "\n",
            "sorted_by_sepal_width\n",
            "     sepal_length  sepal_width  petal_length  petal_width            class\n",
            "60            5.0          2.0           3.5          1.0  Iris-versicolor\n",
            "62            6.0          2.2           4.0          1.0  Iris-versicolor\n",
            "119           6.0          2.2           5.0          1.5   Iris-virginica\n",
            "68            6.2          2.2           4.5          1.5  Iris-versicolor\n",
            "41            4.5          2.3           1.3          0.3      Iris-setosa\n",
            "..            ...          ...           ...          ...              ...\n",
            "16            5.4          3.9           1.3          0.4      Iris-setosa\n",
            "14            5.8          4.0           1.2          0.2      Iris-setosa\n",
            "32            5.2          4.1           1.5          0.1      Iris-setosa\n",
            "33            5.5          4.2           1.4          0.2      Iris-setosa\n",
            "15            5.7          4.4           1.5          0.4      Iris-setosa\n",
            "\n",
            "[150 rows x 5 columns]\n",
            "\n",
            "\n",
            "Access Rows Using .loc:\n",
            "   sepal_length  sepal_width  petal_length  petal_width        class\n",
            "0           5.1          3.5           1.4          0.2  Iris-setosa\n",
            "1           4.9          3.0           1.4          0.2  Iris-setosa\n",
            "2           4.7          3.2           1.3          0.2  Iris-setosa\n",
            "3           4.6          3.1           1.5          0.2  Iris-setosa\n",
            "4           5.0          3.6           1.4          0.2  Iris-setosa\n",
            "5           5.4          3.9           1.7          0.4  Iris-setosa\n",
            "\n",
            "\n",
            "Access Rows Using .iloc:\n",
            "   sepal_length  sepal_width  petal_length  petal_width        class\n",
            "0           5.1          3.5           1.4          0.2  Iris-setosa\n",
            "1           4.9          3.0           1.4          0.2  Iris-setosa\n",
            "2           4.7          3.2           1.3          0.2  Iris-setosa\n",
            "3           4.6          3.1           1.5          0.2  Iris-setosa\n",
            "4           5.0          3.6           1.4          0.2  Iris-setosa\n",
            "\n"
          ]
        },
        {
          "output_type": "display_data",
          "data": {
            "text/plain": [
              "<Figure size 640x480 with 1 Axes>"
            ],
            "image/png": "[encoded data removed]"
          },
          "metadata": {}
        }
      ]
    },
    {
      "cell_type": "markdown",
      "source": [
        "Task 2:\n",
        "After loading the dataset into a DataFrame I selected the \"sepal_length\" column from the DataFrame using iris_df[\"sepal_length\"].\n",
        "\n",
        "I created a figure using plt.figure(). I created a histogram plot using plt.hist(selected_column), where selected_column is the data from the \"sepal_length\" column."
      ],
      "metadata": {
        "id": "xIYmc5GE2_Nu"
      }
    },
    {
      "cell_type": "code",
      "source": [
        "import pandas as pd\n",
        "import matplotlib.pyplot as plt\n",
        "\n",
        "# URL of the Iris dataset\n",
        "url = \"https://archive.ics.uci.edu/ml/machine-learning-databases/iris/iris.data\"\n",
        "column_names = [\"sepal_length\", \"sepal_width\", \"petal_length\", \"petal_width\", \"class\"]\n",
        "iris_df = pd.read_csv(url, names=column_names)\n",
        "\n",
        "# Select the column sepal_length\n",
        "selected_column = iris_df[\"sepal_length\"]\n",
        "\n",
        "# Create a plot to visualize the selected column\n",
        "plt.figure()\n",
        "\n",
        "# Create a histogram\n",
        "plt.hist(selected_column)\n",
        "\n",
        "plt.title(\"Distribution of sepal length\")\n",
        "plt.xlabel(\"Sepal Length\")\n",
        "plt.ylabel(\"Frequency\")\n",
        "\n",
        "# Display the plot\n",
        "plt.show()"
      ],
      "metadata": {
        "colab": {
          "base_uri": "https://localhost:8080/",
          "height": 472
        },
        "id": "KGBnU4QE3F4M",
        "outputId": "aefc918b-be59-4ae0-c108-9366d581335f"
      },
      "execution_count": null,
      "outputs": [
        {
          "output_type": "display_data",
          "data": {
            "text/plain": [
              "<Figure size 640x480 with 1 Axes>"
            ],
            "image/png": "[encoded data removed]"
          },
          "metadata": {}
        }
      ]
    },
    {
      "cell_type": "markdown",
      "source": [
        "Tak 3:\n",
        "I created a new DataFrame named out_df by filtering rows from iris_df where the \"sepal_length\" is greater than or equal to 5 and then printed the filtered DataFrame out_df to display the rows that satisfy the condition."
      ],
      "metadata": {
        "id": "9hLzayqE9Jkf"
      }
    },
    {
      "cell_type": "code",
      "source": [
        "import pandas as pd\n",
        "\n",
        "url = \"https://archive.ics.uci.edu/ml/machine-learning-databases/iris/iris.data\"\n",
        "column_names = [\"sepal_length\", \"sepal_width\", \"petal_length\", \"petal_width\", \"class\"]\n",
        "iris_df = pd.read_csv(url, names=column_names)\n",
        "\n",
        "out_df = iris_df[iris_df[\"sepal_length\"] >= 5]\n",
        "print(out_df)"
      ],
      "metadata": {
        "colab": {
          "base_uri": "https://localhost:8080/"
        },
        "id": "jxLAqi9f9KGA",
        "outputId": "bb305438-1eb5-4b83-95ce-46390806b53b"
      },
      "execution_count": null,
      "outputs": [
        {
          "output_type": "stream",
          "name": "stdout",
          "text": [
            "     sepal_length  sepal_width  petal_length  petal_width           class\n",
            "0             5.1          3.5           1.4          0.2     Iris-setosa\n",
            "4             5.0          3.6           1.4          0.2     Iris-setosa\n",
            "5             5.4          3.9           1.7          0.4     Iris-setosa\n",
            "7             5.0          3.4           1.5          0.2     Iris-setosa\n",
            "10            5.4          3.7           1.5          0.2     Iris-setosa\n",
            "..            ...          ...           ...          ...             ...\n",
            "145           6.7          3.0           5.2          2.3  Iris-virginica\n",
            "146           6.3          2.5           5.0          1.9  Iris-virginica\n",
            "147           6.5          3.0           5.2          2.0  Iris-virginica\n",
            "148           6.2          3.4           5.4          2.3  Iris-virginica\n",
            "149           5.9          3.0           5.1          1.8  Iris-virginica\n",
            "\n",
            "[128 rows x 5 columns]\n"
          ]
        }
      ]
    },
    {
      "cell_type": "markdown",
      "source": [
        "Task 4:\n",
        "In this task, I calculated the summary statistics for the numerical columns using the .describe() method.\n",
        "\n",
        "I assigned the result of .describe() to the variable stats_for_numerical_cols and printed the computed summary statistics using print(stats_for_numerical_cols)."
      ],
      "metadata": {
        "id": "dtj4V59O_Djn"
      }
    },
    {
      "cell_type": "code",
      "source": [
        "import pandas as pd\n",
        "\n",
        "url = \"https://archive.ics.uci.edu/ml/machine-learning-databases/iris/iris.data\"\n",
        "column_names = [\"sepal_length\", \"sepal_width\", \"petal_length\", \"petal_width\", \"class\"]\n",
        "iris_df = pd.read_csv(url, names=column_names)\n",
        "\n",
        "stats_for_numerical_cols = iris_df.describe()\n",
        "print(stats_for_numerical_cols)\n"
      ],
      "metadata": {
        "colab": {
          "base_uri": "https://localhost:8080/"
        },
        "id": "7OmLQl81969r",
        "outputId": "5ee48217-1cdd-4b36-f987-3ef667e46dd4"
      },
      "execution_count": null,
      "outputs": [
        {
          "output_type": "stream",
          "name": "stdout",
          "text": [
            "       sepal_length  sepal_width  petal_length  petal_width\n",
            "count    150.000000   150.000000    150.000000   150.000000\n",
            "mean       5.843333     3.054000      3.758667     1.198667\n",
            "std        0.828066     0.433594      1.764420     0.763161\n",
            "min        4.300000     2.000000      1.000000     0.100000\n",
            "25%        5.100000     2.800000      1.600000     0.300000\n",
            "50%        5.800000     3.000000      4.350000     1.300000\n",
            "75%        6.400000     3.300000      5.100000     1.800000\n",
            "max        7.900000     4.400000      6.900000     2.500000\n"
          ]
        }
      ]
    },
    {
      "cell_type": "markdown",
      "source": [
        "Task 5:\n",
        "In this task, I defined a dictionary named aggregations that specifies the aggregation functions 'count', 'mean', 'std' to each numerical column.\n",
        "\n",
        "Then I grouped the DataFrame by the \"class\" column using grouped_by_classname = iris_df.groupby('class').\n",
        "\n",
        "I applied the aggregation functions specified in the aggregations dictionary to each group using .agg(aggregations).\n"
      ],
      "metadata": {
        "id": "m1bdkliT_bEe"
      }
    },
    {
      "cell_type": "code",
      "source": [
        "import pandas as pd\n",
        "\n",
        "url = \"https://archive.ics.uci.edu/ml/machine-learning-databases/iris/iris.data\"\n",
        "column_names = [\"sepal_length\", \"sepal_width\", \"petal_length\", \"petal_width\", \"class\"]\n",
        "iris_df = pd.read_csv(url, names=column_names)\n",
        "\n",
        "# list_of_cols = [\"sepal_width\", \"petal_length\", \"petal_width\"]\n",
        "\n",
        "# grouped_by_classname = iris_df.groupby(\"class\")\n",
        "# list_of_cols = [\"sepal_length\", \"sepal_width\", \"petal_length\", \"petal_width\"]\n",
        "\n",
        "# print(\"Count per group\")\n",
        "# print(grouped_by_classname[list_of_cols].count())\n",
        "# print()\n",
        "\n",
        "# print(\"Mean per group\")\n",
        "# print(grouped_by_classname[list_of_cols].mean())\n",
        "# print()\n",
        "\n",
        "# print(\"Median per group\")\n",
        "# print(grouped_by_classname[list_of_cols].median())\n",
        "# print()\n",
        "\n",
        "# print(\"Standard Deviation per group\")\n",
        "# print(grouped_by_classname[list_of_cols].std())\n",
        "# print()\n",
        "\n",
        "aggregations = {\n",
        "    'sepal_length': ['count', 'mean', 'std'],\n",
        "    'sepal_width': ['count', 'mean', 'std'],\n",
        "    'petal_length': ['count', 'mean', 'std'],\n",
        "    'petal_width': ['count', 'mean', 'std']\n",
        "}\n",
        "\n",
        "grouped_by_classname = iris_df.groupby('class')\n",
        "aggregated_by_each_group = grouped_by_classname.agg(aggregations)\n",
        "\n",
        "# Rename the columns\n",
        "aggregated_by_each_group.columns = ['sepal_length_count', 'sepal_length_mean', 'sepal_length_std',\n",
        "                      'sepal_width_count', 'sepal_width_mean', 'sepal_width_std',\n",
        "                      'petal_length_count', 'petal_length_mean', 'petal_length_std',\n",
        "                      'petal_width_count', 'petal_width_mean', 'petal_width_std']\n",
        "\n",
        "print(aggregated_by_each_group)\n"
      ],
      "metadata": {
        "colab": {
          "base_uri": "https://localhost:8080/"
        },
        "id": "uvUITmXD_bjE",
        "outputId": "8014e833-de4f-4995-b2af-dacc4b793f4d"
      },
      "execution_count": null,
      "outputs": [
        {
          "output_type": "stream",
          "name": "stdout",
          "text": [
            "                 sepal_length_count  sepal_length_mean  sepal_length_std  \\\n",
            "class                                                                      \n",
            "Iris-setosa                      50              5.006          0.352490   \n",
            "Iris-versicolor                  50              5.936          0.516171   \n",
            "Iris-virginica                   50              6.588          0.635880   \n",
            "\n",
            "                 sepal_width_count  sepal_width_mean  sepal_width_std  \\\n",
            "class                                                                   \n",
            "Iris-setosa                     50             3.418         0.381024   \n",
            "Iris-versicolor                 50             2.770         0.313798   \n",
            "Iris-virginica                  50             2.974         0.322497   \n",
            "\n",
            "                 petal_length_count  petal_length_mean  petal_length_std  \\\n",
            "class                                                                      \n",
            "Iris-setosa                      50              1.464          0.173511   \n",
            "Iris-versicolor                  50              4.260          0.469911   \n",
            "Iris-virginica                   50              5.552          0.551895   \n",
            "\n",
            "                 petal_width_count  petal_width_mean  petal_width_std  \n",
            "class                                                                  \n",
            "Iris-setosa                     50             0.244         0.107210  \n",
            "Iris-versicolor                 50             1.326         0.197753  \n",
            "Iris-virginica                  50             2.026         0.274650  \n"
          ]
        }
      ]
    },
    {
      "cell_type": "markdown",
      "source": [
        "Task 6:\n",
        "After loading the dataset into a DataFrame named iris_df with the specified column names, I sorted the DataFrame by the \"sepal_length\" column in ascending order using .sort_values(by=\"sepal_length\", ascending=True).\n",
        "\n",
        "I assigned the sorted DataFrame to the variable out_df."
      ],
      "metadata": {
        "id": "T9llaaf5SF1Z"
      }
    },
    {
      "cell_type": "code",
      "source": [
        "import pandas as pd\n",
        "\n",
        "url = \"https://archive.ics.uci.edu/ml/machine-learning-databases/iris/iris.data\"\n",
        "column_names = [\"sepal_length\", \"sepal_width\", \"petal_length\", \"petal_width\", \"class\"]\n",
        "iris_df = pd.read_csv(url, names=column_names)\n",
        "\n",
        "# Sort iris_df by \"sepal_length\" in ascending order\n",
        "out_df = iris_df.sort_values(by=\"sepal_length\", ascending=True)\n",
        "print(\"Sorted in ascending order:\")\n",
        "print(out_df)\n",
        "\n"
      ],
      "metadata": {
        "colab": {
          "base_uri": "https://localhost:8080/"
        },
        "id": "eCadPQfXSGd6",
        "outputId": "3d2fdae0-6921-40d3-e718-9eacd5af4161"
      },
      "execution_count": null,
      "outputs": [
        {
          "output_type": "stream",
          "name": "stdout",
          "text": [
            "Sorted in ascending order:\n",
            "     sepal_length  sepal_width  petal_length  petal_width           class\n",
            "13            4.3          3.0           1.1          0.1     Iris-setosa\n",
            "42            4.4          3.2           1.3          0.2     Iris-setosa\n",
            "38            4.4          3.0           1.3          0.2     Iris-setosa\n",
            "8             4.4          2.9           1.4          0.2     Iris-setosa\n",
            "41            4.5          2.3           1.3          0.3     Iris-setosa\n",
            "..            ...          ...           ...          ...             ...\n",
            "122           7.7          2.8           6.7          2.0  Iris-virginica\n",
            "118           7.7          2.6           6.9          2.3  Iris-virginica\n",
            "117           7.7          3.8           6.7          2.2  Iris-virginica\n",
            "135           7.7          3.0           6.1          2.3  Iris-virginica\n",
            "131           7.9          3.8           6.4          2.0  Iris-virginica\n",
            "\n",
            "[150 rows x 5 columns]\n"
          ]
        }
      ]
    },
    {
      "cell_type": "markdown",
      "source": [
        "Task 7:\n",
        "As IRIS dataset doesn't have any missing values, I createed a DataFrame df.\n",
        "\n",
        "I filled the missing values in the DataFrame with zeros using .fillna(0) and stored the result in the DataFrame filled_df.\n",
        "\n",
        "I dropped the rows with missing values from the DataFrame using .dropna() and dropped the columns with missing values from the DataFrame using .dropn(axis=1)"
      ],
      "metadata": {
        "id": "rpRe1eOJVG6A"
      }
    },
    {
      "cell_type": "code",
      "source": [
        "import pandas as pd\n",
        "\n",
        "column_names = [\"sepal_length\", \"sepal_width\", \"petal_length\", \"petal_width\"]\n",
        "data = {\n",
        "    column_names[0]: [5.1, 4.9, 4.7, 4.6],\n",
        "    column_names[1]: [3.5, None, 2, 1],\n",
        "    column_names[2]:[1.4,1.4,None,1.3],\n",
        "    column_names[3]:[.2,.2,.2,None]\n",
        "}\n",
        "\n",
        "df = pd.DataFrame(data)\n",
        "\n",
        "# Filling missing values with a 0\n",
        "filled_df = df.fillna(0)\n",
        "print(\"DataFrame after filling missing values with 0:\")\n",
        "print(filled_df)\n",
        "\n",
        "print()\n",
        "\n",
        "# Dropping rows with missing values\n",
        "dropped_rows= df.dropna()\n",
        "print(\"DataFrame after dropping rows with missing values:\")\n",
        "print(dropped_rows)\n",
        "\n",
        "print()\n",
        "\n",
        "# Dropping columns with missing values\n",
        "dropped_columns = df.dropna(axis=1)\n",
        "print(\"DataFrame after dropping columns with missing values:\")\n",
        "print(dropped_columns)\n"
      ],
      "metadata": {
        "colab": {
          "base_uri": "https://localhost:8080/"
        },
        "id": "4P-r_XNeVK1v",
        "outputId": "62885db5-44ee-41d8-e305-7cfcbaa88e3b"
      },
      "execution_count": null,
      "outputs": [
        {
          "output_type": "stream",
          "name": "stdout",
          "text": [
            "DataFrame after filling missing values with 0:\n",
            "   sepal_length  sepal_width  petal_length  petal_width\n",
            "0           5.1          3.5           1.4          0.2\n",
            "1           4.9          0.0           1.4          0.2\n",
            "2           4.7          2.0           0.0          0.2\n",
            "3           4.6          1.0           1.3          0.0\n",
            "\n",
            "DataFrame after dropping rows with missing values:\n",
            "   sepal_length  sepal_width  petal_length  petal_width\n",
            "0           5.1          3.5           1.4          0.2\n",
            "\n",
            "DataFrame after dropping columns with missing values:\n",
            "   sepal_length\n",
            "0           5.1\n",
            "1           4.9\n",
            "2           4.7\n",
            "3           4.6\n"
          ]
        }
      ]
    }
  ]
}