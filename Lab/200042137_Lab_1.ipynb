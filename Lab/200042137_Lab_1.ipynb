{
  "nbformat": 4,
  "nbformat_minor": 0,
  "metadata": {
    "colab": {
      "provenance": []
    },
    "kernelspec": {
      "name": "python3",
      "display_name": "Python 3"
    },
    "language_info": {
      "name": "python"
    }
  },
  "cells": [
    {
      "cell_type": "markdown",
      "source": [
        "Task 1:\n",
        "In this code, np.random.ranit generates a one dimensional array of size 10 ensuring that the upper bound of the array would less than 10."
      ],
      "metadata": {
        "id": "YeGm3y2u733e"
      }
    },
    {
      "cell_type": "code",
      "execution_count": 7,
      "metadata": {
        "colab": {
          "base_uri": "https://localhost:8080/"
        },
        "id": "AoDBjQxi211t",
        "outputId": "381ea9d7-172e-4fe5-a20f-6f9862ddfb8d"
      },
      "outputs": [
        {
          "output_type": "stream",
          "name": "stdout",
          "text": [
            "[5 0 2 3 8 1 3 3 3 7]\n"
          ]
        }
      ],
      "source": [
        "import numpy as np\n",
        "\n",
        "array = np.random.randint(10, size=10)\n",
        "print(array)"
      ]
    },
    {
      "cell_type": "markdown",
      "source": [
        "Task2:\n",
        "n this code, np.random.ranit generates a 7x6 dimensional array of size 10 ensuring that the upper bound of the array would less than 10.\n",
        "Then I used the reshape function to reshape the array into 3x14 dimension"
      ],
      "metadata": {
        "id": "2h_gh6vl8Iy-"
      }
    },
    {
      "cell_type": "code",
      "source": [
        "import numpy as np\n",
        "\n",
        "print(\"7x6 array:\")\n",
        "array = np.random.randint(10 , size =(7, 6))\n",
        "print(array)\n",
        "\n",
        "print(\"3x14 array:\")\n",
        "reshaped_array = array.reshape(3,14)\n",
        "print(reshaped_array)\n"
      ],
      "metadata": {
        "colab": {
          "base_uri": "https://localhost:8080/"
        },
        "id": "lzlhCEZC8Kg8",
        "outputId": "29b02092-2abe-4503-fb26-3a3a837cd1c0"
      },
      "execution_count": 13,
      "outputs": [
        {
          "output_type": "stream",
          "name": "stdout",
          "text": [
            "7x6 array:\n",
            "[[7 0 8 4 6 5]\n",
            " [8 2 3 9 7 5]\n",
            " [3 4 5 3 3 7]\n",
            " [9 9 9 7 3 2]\n",
            " [3 9 7 7 5 1]\n",
            " [2 2 8 1 5 8]\n",
            " [4 0 2 5 5 0]]\n",
            "3x14 array:\n",
            "[[7 0 8 4 6 5 8 2 3 9 7 5 3 4]\n",
            " [5 3 3 7 9 9 9 7 3 2 3 9 7 7]\n",
            " [5 1 2 2 8 1 5 8 4 0 2 5 5 0]]\n"
          ]
        }
      ]
    },
    {
      "cell_type": "markdown",
      "source": [
        "Task 3:\n",
        "In this task I iterated over the array and checked each of the elemnt if it is odd or not. After finding an odd element I appended it to the odd_numbers array\n"
      ],
      "metadata": {
        "id": "lmOmXaQk-bUJ"
      }
    },
    {
      "cell_type": "code",
      "source": [
        "import numpy as np\n",
        "\n",
        "array = np.array([0,1,2,3,4,5,6,7,8,9])\n",
        "\n",
        "odd_numbers=[]\n",
        "\n",
        "for num in array:\n",
        "  if(num%2)!=0:\n",
        "    odd_numbers.append(num)\n",
        "\n",
        "\n",
        "print(np.array(odd_numbers))\n",
        "\n"
      ],
      "metadata": {
        "colab": {
          "base_uri": "https://localhost:8080/"
        },
        "id": "ZDL0Nu46-b4A",
        "outputId": "0886e85a-0a63-45ad-b482-bc2eeeeb2929"
      },
      "execution_count": 14,
      "outputs": [
        {
          "output_type": "stream",
          "name": "stdout",
          "text": [
            "[1 3 5 7 9]\n"
          ]
        }
      ]
    },
    {
      "cell_type": "markdown",
      "source": [
        "Task 4:\n",
        "In this task I iterated over the array and checked each of the elemnt if it is odd or not. After finding an odd element I replaced it with -1"
      ],
      "metadata": {
        "id": "q32jJ4rFATrT"
      }
    },
    {
      "cell_type": "code",
      "source": [
        "import numpy as np\n",
        "\n",
        "array = np.array([0,1,2,3,4,5,6,7,8,9])\n",
        "\n",
        "\n",
        "for i in range(len(array)):\n",
        "  if(array[i]%2)!=0 :\n",
        "    array[i]=-1\n",
        "\n",
        "\n",
        "print(array)\n"
      ],
      "metadata": {
        "colab": {
          "base_uri": "https://localhost:8080/"
        },
        "id": "prcHiCn2AUNZ",
        "outputId": "13aff726-4037-4788-b7d0-2f62bc600a38"
      },
      "execution_count": 17,
      "outputs": [
        {
          "output_type": "stream",
          "name": "stdout",
          "text": [
            "[ 0 -1  2 -1  4 -1  6 -1  8 -1]\n"
          ]
        }
      ]
    },
    {
      "cell_type": "markdown",
      "source": [
        "Task 5:\n",
        "At first I copied the original array and then I iterated over the new out_array to perform the desired task."
      ],
      "metadata": {
        "id": "_BI9IzHjBLak"
      }
    },
    {
      "cell_type": "code",
      "source": [
        "import numpy as np\n",
        "\n",
        "array = np.array([0,1,2,3,4,5,6,7,8,9])\n",
        "\n",
        "out_array = np.copy(array)\n",
        "\n",
        "for i in range(len(out_array)):\n",
        "    if (out_array[i]%2) != 0:\n",
        "        out_array[i] = -1\n",
        "\n",
        "print(\"Original Array:\")\n",
        "print(array)\n",
        "print(\"Replaced Array:\")\n",
        "print(out_array)\n"
      ],
      "metadata": {
        "colab": {
          "base_uri": "https://localhost:8080/"
        },
        "id": "Zz9_D5zeCTy3",
        "outputId": "145c9e57-9d33-468f-dde5-cb5e1ca76c5c"
      },
      "execution_count": 22,
      "outputs": [
        {
          "output_type": "stream",
          "name": "stdout",
          "text": [
            "Original Array:\n",
            "[0 1 2 3 4 5 6 7 8 9]\n",
            "Replaced Array:\n",
            "[ 0 -1  2 -1  4 -1  6 -1  8 -1]\n"
          ]
        }
      ]
    },
    {
      "cell_type": "markdown",
      "source": [
        "Task 6:\n",
        "In this task I used the np.where function to find matched between a and b. After finding a match I appended the indices of the matched element to matching_positions array."
      ],
      "metadata": {
        "id": "7c37WtlnC9oJ"
      }
    },
    {
      "cell_type": "code",
      "source": [
        "import numpy as np\n",
        "\n",
        "a = np.array([1,2,3,2,3,4,3,4,5,6])\n",
        "b = np.array([7,2,10,2,7,4,9,4,9,8])\n",
        "matching_positions=[]\n",
        "matching_positions.append(np.where(a == b))\n",
        "print(np.array(matching_positions))"
      ],
      "metadata": {
        "colab": {
          "base_uri": "https://localhost:8080/"
        },
        "id": "XQ-oslmFC-FG",
        "outputId": "f9a076ce-1eef-4af9-c7c9-d3b741de5d3f"
      },
      "execution_count": 25,
      "outputs": [
        {
          "output_type": "stream",
          "name": "stdout",
          "text": [
            "[[[1 3 5 7]]]\n"
          ]
        }
      ]
    },
    {
      "cell_type": "markdown",
      "source": [
        "Task 7:\n"
      ],
      "metadata": {
        "id": "RWUGb9eRFtZd"
      }
    },
    {
      "cell_type": "code",
      "source": [
        "import numpy as np\n",
        "\n",
        "array = np.array([2, 6, 1, 9, 10, 3, 27])\n",
        "\n",
        "out_array = array[(array >= 5) & (array <= 10)]\n",
        "\n",
        "print(out_array)\n"
      ],
      "metadata": {
        "colab": {
          "base_uri": "https://localhost:8080/"
        },
        "id": "_JQsFEHsFvB1",
        "outputId": "3e409574-af1e-44d4-dbbe-2cc60a25bf37"
      },
      "execution_count": 27,
      "outputs": [
        {
          "output_type": "stream",
          "name": "stdout",
          "text": [
            "[ 6  9 10]\n"
          ]
        }
      ]
    },
    {
      "cell_type": "markdown",
      "source": [
        "Task 8:\n",
        "In this task, I used ths np.concatenate to concatenate along both the axis"
      ],
      "metadata": {
        "id": "DM4_q_-gGgHl"
      }
    },
    {
      "cell_type": "code",
      "source": [
        "import numpy as np\n",
        "\n",
        "# Creating a vector of size 10 with zeros\n",
        "zeros = np.zeros(10)\n",
        "\n",
        "# Creating a vector of size 10 with ones\n",
        "ones = np.ones(10)\n",
        "\n",
        "# Changing their dimension\n",
        "reshaped_zeros = zeros.reshape(5, 2)\n",
        "reshaped_ones = ones.reshape(5, 2)\n",
        "\n",
        "# Merging vectors vertically\n",
        "merge_vertically = np.concatenate((reshaped_zeros, reshaped_ones), axis=0)\n",
        "\n",
        "# Merge vectors horizontally\n",
        "merge_horizontally = np.concatenate((reshaped_zeros, reshaped_ones), axis=1)\n",
        "\n",
        "print(\"Zeros Vector:\")\n",
        "print(zeros)\n",
        "\n",
        "print(\"Ones Vector:\")\n",
        "print(ones)\n",
        "\n",
        "print(\"Reshaped zero vector:\")\n",
        "print(reshaped_zeros)\n",
        "\n",
        "print(\"Reshaped ones vector:\")\n",
        "print(reshaped_ones)\n",
        "\n",
        "print(\"Merged Vertically:\")\n",
        "print(merge_vertically)\n",
        "\n",
        "print(\"Merged Horizontally:\")\n",
        "print(merge_horizontally)\n"
      ],
      "metadata": {
        "colab": {
          "base_uri": "https://localhost:8080/"
        },
        "id": "wofJBJR6GiBc",
        "outputId": "f6ec03cd-b805-45ae-d772-d53db69de82a"
      },
      "execution_count": 29,
      "outputs": [
        {
          "output_type": "stream",
          "name": "stdout",
          "text": [
            "Zeros Vector:\n",
            "[0. 0. 0. 0. 0. 0. 0. 0. 0. 0.]\n",
            "Ones Vector:\n",
            "[1. 1. 1. 1. 1. 1. 1. 1. 1. 1.]\n",
            "Reshaped zero vector:\n",
            "[[0. 0.]\n",
            " [0. 0.]\n",
            " [0. 0.]\n",
            " [0. 0.]\n",
            " [0. 0.]]\n",
            "Reshaped ones vector:\n",
            "[[1. 1.]\n",
            " [1. 1.]\n",
            " [1. 1.]\n",
            " [1. 1.]\n",
            " [1. 1.]]\n",
            "Merged Vertically:\n",
            "[[0. 0.]\n",
            " [0. 0.]\n",
            " [0. 0.]\n",
            " [0. 0.]\n",
            " [0. 0.]\n",
            " [1. 1.]\n",
            " [1. 1.]\n",
            " [1. 1.]\n",
            " [1. 1.]\n",
            " [1. 1.]]\n",
            "Merged Horizontally:\n",
            "[[0. 0. 1. 1.]\n",
            " [0. 0. 1. 1.]\n",
            " [0. 0. 1. 1.]\n",
            " [0. 0. 1. 1.]\n",
            " [0. 0. 1. 1.]]\n"
          ]
        }
      ]
    },
    {
      "cell_type": "markdown",
      "source": [
        "Task 9:\n",
        "I used the ndarray function from numpy to create an ndarray"
      ],
      "metadata": {
        "id": "G5-1IxJTJExN"
      }
    },
    {
      "cell_type": "code",
      "source": [
        "import numpy as np\n",
        "\n",
        "x = np.ndarray(shape=(5,4), dtype=int, order='F')\n",
        "\n",
        "print(x)"
      ],
      "metadata": {
        "colab": {
          "base_uri": "https://localhost:8080/"
        },
        "id": "S1EVwnV1JFO_",
        "outputId": "380a508b-efeb-4691-ea97-7367215b7a21"
      },
      "execution_count": 35,
      "outputs": [
        {
          "output_type": "stream",
          "name": "stdout",
          "text": [
            "[[    100836652008320     139628639717616     139628639717616\n",
            "      139628641026096]\n",
            " [                  0     139628641655152     139628640377120\n",
            "      100813212116272]\n",
            " [    139628639717616     139628639717616     139628641026096\n",
            "      139627368035024]\n",
            " [    139628639717616     139628639717616     139628641026096\n",
            "  2913096084806529838]\n",
            " [    139628639717616     139628639717616     100813195430320\n",
            "          43644120419]]\n"
          ]
        }
      ]
    },
    {
      "cell_type": "markdown",
      "source": [
        "Task 10\n"
      ],
      "metadata": {
        "id": "e1hkliIgLQrz"
      }
    },
    {
      "cell_type": "code",
      "source": [
        "import numpy as np\n",
        "n_samples = 5\n",
        "n_features = 4\n",
        "x = np.random.rand(n_samples, n_features)\n",
        "y = np.random.randint(0, 2, n_samples)\n",
        "print(x)\n",
        "print(y)"
      ],
      "metadata": {
        "colab": {
          "base_uri": "https://localhost:8080/"
        },
        "id": "NI0w5OkbLSpE",
        "outputId": "c4533b16-b683-4b83-eb60-ba8b1db57da4"
      },
      "execution_count": 36,
      "outputs": [
        {
          "output_type": "stream",
          "name": "stdout",
          "text": [
            "[[0.60825287 0.59665541 0.78364425 0.5000263 ]\n",
            " [0.05037006 0.69909807 0.9923964  0.26726254]\n",
            " [0.67909062 0.86428144 0.75084425 0.96448977]\n",
            " [0.55424244 0.2123905  0.22244322 0.21874937]\n",
            " [0.56957353 0.45210904 0.97023668 0.68054469]]\n",
            "[1 1 0 0 1]\n"
          ]
        }
      ]
    },
    {
      "cell_type": "markdown",
      "source": [
        "Task 11"
      ],
      "metadata": {
        "id": "9U7mdUmsMyAb"
      }
    },
    {
      "cell_type": "code",
      "source": [
        "def extract_subset(x, y, y0):\n",
        "    # indices where y matches y0\n",
        "    indices=[]\n",
        "    indices.append(np.where(y == y0))\n",
        "\n",
        "    # Extract subset of x based on indices\n",
        "    subset_x = x[indices]\n",
        "\n",
        "    return subset_x\n",
        "\n",
        "import numpy as np\n",
        "n_samples = 5\n",
        "n_features = 4\n",
        "x = np.random.rand(n_samples, n_features)\n",
        "y = np.random.randint(0, 2, n_samples)\n",
        "print(x)\n",
        "print()\n",
        "print(y)\n",
        "print()\n",
        "target_class=0\n",
        "print(extract_subset(x, y, target_class))\n"
      ],
      "metadata": {
        "colab": {
          "base_uri": "https://localhost:8080/"
        },
        "id": "Ugux9QVXM0Eo",
        "outputId": "1bc9e65e-0568-4d9b-e2db-ed5166ce0750"
      },
      "execution_count": 41,
      "outputs": [
        {
          "output_type": "stream",
          "name": "stdout",
          "text": [
            "[[0.36858461 0.13690027 0.82211773 0.18984791]\n",
            " [0.51131898 0.22431703 0.09784448 0.86219152]\n",
            " [0.97291949 0.96083466 0.9065555  0.77404733]\n",
            " [0.33314515 0.08110139 0.40724117 0.23223414]\n",
            " [0.13248763 0.05342718 0.72559436 0.01142746]]\n",
            "\n",
            "[1 1 0 0 0]\n",
            "\n",
            "[[[[0.97291949 0.96083466 0.9065555  0.77404733]\n",
            "   [0.33314515 0.08110139 0.40724117 0.23223414]\n",
            "   [0.13248763 0.05342718 0.72559436 0.01142746]]]]\n"
          ]
        }
      ]
    },
    {
      "cell_type": "markdown",
      "source": [
        "Task 12\n"
      ],
      "metadata": {
        "id": "QOKqGU_-OSlu"
      }
    },
    {
      "cell_type": "code",
      "source": [
        "import pandas as pd\n",
        "from urllib.request import urlopen\n",
        "\n",
        "# URL of the Iris dataset\n",
        "url = \"https://archive.ics.uci.edu/ml/machine-learning-databases/iris/iris.data\"\n",
        "\n",
        "# Define column names\n",
        "column_names = [\"sepal_length\", \"sepal_width\", \"petal_length\", \"petal_width\", \"class\"]\n",
        "\n",
        "# Load the dataset\n",
        "iris_df = pd.read_csv(url, names=column_names)\n",
        "\n",
        "# Print the DataFrame\n",
        "print(iris_df)\n"
      ],
      "metadata": {
        "colab": {
          "base_uri": "https://localhost:8080/"
        },
        "id": "pdJEdJp9OWHv",
        "outputId": "69f18bbc-eed4-482a-9eaa-13a177f7ae09"
      },
      "execution_count": 43,
      "outputs": [
        {
          "output_type": "stream",
          "name": "stdout",
          "text": [
            "     sepal_length  sepal_width  petal_length  petal_width           class\n",
            "0             5.1          3.5           1.4          0.2     Iris-setosa\n",
            "1             4.9          3.0           1.4          0.2     Iris-setosa\n",
            "2             4.7          3.2           1.3          0.2     Iris-setosa\n",
            "3             4.6          3.1           1.5          0.2     Iris-setosa\n",
            "4             5.0          3.6           1.4          0.2     Iris-setosa\n",
            "..            ...          ...           ...          ...             ...\n",
            "145           6.7          3.0           5.2          2.3  Iris-virginica\n",
            "146           6.3          2.5           5.0          1.9  Iris-virginica\n",
            "147           6.5          3.0           5.2          2.0  Iris-virginica\n",
            "148           6.2          3.4           5.4          2.3  Iris-virginica\n",
            "149           5.9          3.0           5.1          1.8  Iris-virginica\n",
            "\n",
            "[150 rows x 5 columns]\n"
          ]
        }
      ]
    },
    {
      "cell_type": "markdown",
      "source": [
        "Task 13"
      ],
      "metadata": {
        "id": "rgCG4j2uRpyi"
      }
    },
    {
      "cell_type": "code",
      "source": [
        "import pandas as pd\n",
        "\n",
        "# URL of the Iris dataset\n",
        "url = \"https://archive.ics.uci.edu/ml/machine-learning-databases/iris/iris.data\"\n",
        "\n",
        "# Column names\n",
        "column_names = [\"sepal_length\", \"sepal_width\", \"petal_length\", \"petal_width\", \"class\"]\n",
        "\n",
        "# Load the dataset\n",
        "iris_df = pd.read_csv(url, names=column_names)\n",
        "\n",
        "# Calculate mean, median, and standard deviation of the 1st column (sepal length)\n",
        "sepal_length_column = iris_df[\"sepal_length\"]\n",
        "mean_sepal_length = sepal_length_column.mean()\n",
        "median_sepal_length = sepal_length_column.median()\n",
        "std_sepal_length = sepal_length_column.std()\n",
        "\n",
        "# Print mean, median, and standard deviation\n",
        "print(\"Mean of sepal length:\", mean_sepal_length)\n",
        "print(\"Median of sepal length:\", median_sepal_length)\n",
        "print(\"Standard Deviation of sepal length:\", std_sepal_length)\n",
        "\n",
        "# Statistical summary\n",
        "statistical_summary = iris_df.describe()\n",
        "print(\"Statistical Summary:\")\n",
        "print(statistical_summary)\n"
      ],
      "metadata": {
        "colab": {
          "base_uri": "https://localhost:8080/"
        },
        "id": "aADb5-MRRrQs",
        "outputId": "deb0aa5a-d610-46f7-86bc-c29333de6bc6"
      },
      "execution_count": 44,
      "outputs": [
        {
          "output_type": "stream",
          "name": "stdout",
          "text": [
            "Mean of sepal length: 5.843333333333334\n",
            "Median of sepal length: 5.8\n",
            "Standard Deviation of sepal length: 0.828066127977863\n",
            "Statistical Summary:\n",
            "       sepal_length  sepal_width  petal_length  petal_width\n",
            "count    150.000000   150.000000    150.000000   150.000000\n",
            "mean       5.843333     3.054000      3.758667     1.198667\n",
            "std        0.828066     0.433594      1.764420     0.763161\n",
            "min        4.300000     2.000000      1.000000     0.100000\n",
            "25%        5.100000     2.800000      1.600000     0.300000\n",
            "50%        5.800000     3.000000      4.350000     1.300000\n",
            "75%        6.400000     3.300000      5.100000     1.800000\n",
            "max        7.900000     4.400000      6.900000     2.500000\n"
          ]
        }
      ]
    }
  ]
}