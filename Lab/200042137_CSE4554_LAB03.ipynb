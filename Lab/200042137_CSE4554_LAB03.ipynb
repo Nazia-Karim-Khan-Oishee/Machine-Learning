{
  "nbformat": 4,
  "nbformat_minor": 0,
  "metadata": {
    "colab": {
      "provenance": []
    },
    "kernelspec": {
      "name": "python3",
      "display_name": "Python 3"
    },
    "language_info": {
      "name": "python"
    }
  },
  "cells": [
    {
      "cell_type": "markdown",
      "source": [
        "Task 1"
      ],
      "metadata": {
        "id": "54DUd-JTGpy9"
      }
    },
    {
      "cell_type": "code",
      "source": [
        "!pip install gdown\n",
        "from google.colab import drive\n",
        "drive.mount('/content/drive')\n"
      ],
      "metadata": {
        "colab": {
          "base_uri": "https://localhost:8080/"
        },
        "id": "O3BUklWHGqqd",
        "outputId": "afbf6021-5b85-417c-efbd-0aba77a36168"
      },
      "execution_count": 71,
      "outputs": [
        {
          "output_type": "stream",
          "name": "stdout",
          "text": [
            "Requirement already satisfied: gdown in /usr/local/lib/python3.10/dist-packages (4.6.6)\n",
            "Requirement already satisfied: filelock in /usr/local/lib/python3.10/dist-packages (from gdown) (3.12.2)\n",
            "Requirement already satisfied: requests[socks] in /usr/local/lib/python3.10/dist-packages (from gdown) (2.31.0)\n",
            "Requirement already satisfied: six in /usr/local/lib/python3.10/dist-packages (from gdown) (1.16.0)\n",
            "Requirement already satisfied: tqdm in /usr/local/lib/python3.10/dist-packages (from gdown) (4.66.1)\n",
            "Requirement already satisfied: beautifulsoup4 in /usr/local/lib/python3.10/dist-packages (from gdown) (4.11.2)\n",
            "Requirement already satisfied: soupsieve>1.2 in /usr/local/lib/python3.10/dist-packages (from beautifulsoup4->gdown) (2.5)\n",
            "Requirement already satisfied: charset-normalizer<4,>=2 in /usr/local/lib/python3.10/dist-packages (from requests[socks]->gdown) (3.2.0)\n",
            "Requirement already satisfied: idna<4,>=2.5 in /usr/local/lib/python3.10/dist-packages (from requests[socks]->gdown) (3.4)\n",
            "Requirement already satisfied: urllib3<3,>=1.21.1 in /usr/local/lib/python3.10/dist-packages (from requests[socks]->gdown) (2.0.4)\n",
            "Requirement already satisfied: certifi>=2017.4.17 in /usr/local/lib/python3.10/dist-packages (from requests[socks]->gdown) (2023.7.22)\n",
            "Requirement already satisfied: PySocks!=1.5.7,>=1.5.6 in /usr/local/lib/python3.10/dist-packages (from requests[socks]->gdown) (1.7.1)\n",
            "Drive already mounted at /content/drive; to attempt to forcibly remount, call drive.mount(\"/content/drive\", force_remount=True).\n"
          ]
        }
      ]
    },
    {
      "cell_type": "code",
      "source": [
        "import pandas as pd\n",
        "import gdown\n",
        "\n",
        "# Defining the Google Drive URL for the dataset\n",
        "drive_url = \"https://drive.google.com/uc?id=1jtSc2dKFQ6zOcC8w3_yJeBHYUP5umOnD\"\n",
        "\n",
        "# Defining the output file path where the dataset will be saved\n",
        "output_file = \"/content/drive/My Drive/orthopedic_patients.csv\"\n",
        "\n",
        "# Downloading the dataset from the Google Drive URL\n",
        "gdown.download(drive_url, output_file, quiet=False)\n",
        "\n",
        "# Loading the dataset into a pandas DataFrame\n",
        "df = pd.read_csv(output_file)\n"
      ],
      "metadata": {
        "colab": {
          "base_uri": "https://localhost:8080/"
        },
        "id": "8TRvR_7kIlQy",
        "outputId": "99a5bbaf-e3e8-4491-d62f-063f15ad91ab"
      },
      "execution_count": 72,
      "outputs": [
        {
          "output_type": "stream",
          "name": "stderr",
          "text": [
            "Downloading...\n",
            "From: https://drive.google.com/uc?id=1jtSc2dKFQ6zOcC8w3_yJeBHYUP5umOnD\n",
            "To: /content/drive/My Drive/orthopedic_patients.csv\n",
            "100%|██████████| 25.0k/25.0k [00:00<00:00, 31.9MB/s]\n"
          ]
        }
      ]
    },
    {
      "cell_type": "code",
      "source": [
        "# Display the first 5 rows of the dataset\n",
        "print(\"First 5 rows of the dataset:\")\n",
        "print(df.head())\n",
        "\n",
        "print()\n",
        "\n",
        "# Display dataset information\n",
        "print(\"Dataset information:\")\n",
        "print(df.info())\n",
        "\n",
        "print()\n",
        "\n",
        "# Display summary statistics of the dataset\n",
        "print(\"Summary statistics of the dataset:\")\n",
        "print(df.describe())\n"
      ],
      "metadata": {
        "colab": {
          "base_uri": "https://localhost:8080/"
        },
        "id": "SjfINzOQJCRq",
        "outputId": "ae1e53d8-3e8d-4f59-8950-da316aafba3b"
      },
      "execution_count": 73,
      "outputs": [
        {
          "output_type": "stream",
          "name": "stdout",
          "text": [
            "First 5 rows of the dataset:\n",
            "   pelvic_incidence  pelvic_tilt numeric  lumbar_lordosis_angle  sacral_slope  \\\n",
            "0         63.027817            22.552586              39.609117     40.475232   \n",
            "1         39.056951            10.060991              25.015378     28.995960   \n",
            "2         68.832021            22.218482              50.092194     46.613539   \n",
            "3         69.297008            24.652878              44.311238     44.644130   \n",
            "4         49.712859             9.652075              28.317406     40.060784   \n",
            "\n",
            "   pelvic_radius  degree_spondylolisthesis     class  \n",
            "0      98.672917                 -0.254400  Abnormal  \n",
            "1     114.405425                  4.564259  Abnormal  \n",
            "2     105.985135                 -3.530317  Abnormal  \n",
            "3     101.868495                 11.211523  Abnormal  \n",
            "4     108.168725                  7.918501  Abnormal  \n",
            "\n",
            "Dataset information:\n",
            "<class 'pandas.core.frame.DataFrame'>\n",
            "RangeIndex: 310 entries, 0 to 309\n",
            "Data columns (total 7 columns):\n",
            " #   Column                    Non-Null Count  Dtype  \n",
            "---  ------                    --------------  -----  \n",
            " 0   pelvic_incidence          310 non-null    float64\n",
            " 1   pelvic_tilt numeric       310 non-null    float64\n",
            " 2   lumbar_lordosis_angle     310 non-null    float64\n",
            " 3   sacral_slope              310 non-null    float64\n",
            " 4   pelvic_radius             310 non-null    float64\n",
            " 5   degree_spondylolisthesis  310 non-null    float64\n",
            " 6   class                     310 non-null    object \n",
            "dtypes: float64(6), object(1)\n",
            "memory usage: 17.1+ KB\n",
            "None\n",
            "\n",
            "Summary statistics of the dataset:\n",
            "       pelvic_incidence  pelvic_tilt numeric  lumbar_lordosis_angle  \\\n",
            "count        310.000000           310.000000             310.000000   \n",
            "mean          60.496653            17.542822              51.930930   \n",
            "std           17.236520            10.008330              18.554064   \n",
            "min           26.147921            -6.554948              14.000000   \n",
            "25%           46.430294            10.667069              37.000000   \n",
            "50%           58.691038            16.357689              49.562398   \n",
            "75%           72.877696            22.120395              63.000000   \n",
            "max          129.834041            49.431864             125.742385   \n",
            "\n",
            "       sacral_slope  pelvic_radius  degree_spondylolisthesis  \n",
            "count    310.000000     310.000000                310.000000  \n",
            "mean      42.953831     117.920655                 26.296694  \n",
            "std       13.423102      13.317377                 37.559027  \n",
            "min       13.366931      70.082575                -11.058179  \n",
            "25%       33.347122     110.709196                  1.603727  \n",
            "50%       42.404912     118.268178                 11.767934  \n",
            "75%       52.695888     125.467674                 41.287352  \n",
            "max      121.429566     163.071041                418.543082  \n"
          ]
        }
      ]
    },
    {
      "cell_type": "markdown",
      "source": [
        "Task 2"
      ],
      "metadata": {
        "id": "kf3s7gaDJh_d"
      }
    },
    {
      "cell_type": "code",
      "execution_count": 74,
      "metadata": {
        "id": "DKmW4MWtGhso"
      },
      "outputs": [],
      "source": [
        "# For data creation and other tasks\n",
        "import numpy as np\n",
        "import random\n",
        "import pandas as pd\n",
        "\n",
        "## Mertics to evaluate the models\n",
        "from sklearn . metrics import accuracy_score # for Logistic Regression\n",
        "\n",
        "# For plotting the graphs ..\n",
        "import matplotlib . pyplot as plt\n",
        "%matplotlib inline\n",
        "import seaborn as sns\n",
        "\n",
        "# For spliting the data into 80:20 ratio\n",
        "from sklearn . model_selection import train_test_split"
      ]
    },
    {
      "cell_type": "markdown",
      "source": [
        "Task 3"
      ],
      "metadata": {
        "id": "Ts5s84pbJ4l0"
      }
    },
    {
      "cell_type": "code",
      "source": [
        "import numpy as np\n",
        "\n",
        "def weightInitialization(n_features):\n",
        "\n",
        "    # Initialize weights (w) with zeros\n",
        "    w = np.zeros((n_features, 1))\n",
        "\n",
        "    # Initialize bias (b) to zero\n",
        "    b = 0\n",
        "\n",
        "    return w, b\n",
        "\n",
        "\n",
        "\n",
        "n_features = 6  #  number of features in your dataset\n",
        "w, b = weightInitialization(n_features)\n",
        "print(\"(w):\", w)\n",
        "print(\"(b):\", b)\n"
      ],
      "metadata": {
        "colab": {
          "base_uri": "https://localhost:8080/"
        },
        "id": "KVveLEmSJ6Np",
        "outputId": "14548d51-e0ec-45dc-bc57-8c2cb811b113"
      },
      "execution_count": 75,
      "outputs": [
        {
          "output_type": "stream",
          "name": "stdout",
          "text": [
            "(w): [[0.]\n",
            " [0.]\n",
            " [0.]\n",
            " [0.]\n",
            " [0.]\n",
            " [0.]]\n",
            "(b): 0\n"
          ]
        }
      ]
    },
    {
      "cell_type": "markdown",
      "source": [
        "Task 4"
      ],
      "metadata": {
        "id": "YSL6fk8IOvcw"
      }
    },
    {
      "cell_type": "code",
      "source": [
        "import numpy as np\n",
        "\n",
        "def sigmoid_activation(z):\n",
        "    y = 1 / (1 + np.exp(-z))\n",
        "    return y\n",
        "\n",
        "z = 2\n",
        "print(\"Sigmoid activation:\", sigmoid_activation(z))\n"
      ],
      "metadata": {
        "colab": {
          "base_uri": "https://localhost:8080/"
        },
        "id": "KGuYA_yUOxGq",
        "outputId": "bb3785f4-eef0-4a66-c3bf-60b86adf8382"
      },
      "execution_count": 76,
      "outputs": [
        {
          "output_type": "stream",
          "name": "stdout",
          "text": [
            "Sigmoid activation: 0.8807970779778823\n"
          ]
        }
      ]
    },
    {
      "cell_type": "markdown",
      "source": [
        "Task 5"
      ],
      "metadata": {
        "id": "4Km6ki2APWPD"
      }
    },
    {
      "cell_type": "code",
      "source": [
        "import numpy as np\n",
        "\n",
        "\n",
        "def model_optimize(w, b, X, Y):\n",
        "    m = X.shape[1]  # Number of data points\n",
        "\n",
        "    Z = np.dot(w.T, X) + b\n",
        "    A = sigmoid_activation(Z)\n",
        "\n",
        "    Y_binary = np.where(Y == \"Abnormal\", 1, 0)\n",
        "\n",
        "    epsilon = 1e-15  # Small positive epsilon to avoid division by zero and invalid log values\n",
        "\n",
        "    # Calculate the cost\n",
        "    cost = -1/m * np.sum(Y_binary * np.log(np.clip(A, epsilon, 1 - epsilon)) + (1 - Y_binary) * np.log(np.clip(1 - A, epsilon, 1 - epsilon)))\n",
        "\n",
        "    dw = 1/m * np.dot(X, (A - Y_binary).T)\n",
        "    db = 1/m * np.sum(A - Y_binary)\n",
        "\n",
        "    grads = {\"dw\": dw, \"db\": db}\n",
        "\n",
        "    return grads, cost\n",
        "\n",
        "\n",
        "# Extract input features (X) and labels (Y) from DataFrame\n",
        "x = df.drop('class', axis=1).values.T  # Transpose X to match the shape (n_features, m)\n",
        "y = df['class'].values\n",
        "\n",
        "n_features = x.shape[0]  # Number of features\n",
        "w, b = weightInitialization(n_features)\n",
        "\n",
        "\n",
        "#model_optimize function\n",
        "grads, cost = model_optimize(w, b, x,y)\n",
        "\n",
        "# Print gradients and cost\n",
        "print(\"Gradients:\")\n",
        "print(\"dw:\", grads[\"dw\"])\n",
        "print(\"db:\", grads[\"db\"])\n",
        "print(\"Cost:\", cost)\n",
        "\n"
      ],
      "metadata": {
        "colab": {
          "base_uri": "https://localhost:8080/"
        },
        "id": "8dkWK49APXvL",
        "outputId": "f76a92ad-9a0d-4f2e-d430-3b5576266ee4"
      },
      "execution_count": 105,
      "outputs": [
        {
          "output_type": "stream",
          "name": "stdout",
          "text": [
            "Gradients:\n",
            "dw: [[-13.57566697]\n",
            " [ -4.63547089]\n",
            " [-11.91946324]\n",
            " [ -8.94019608]\n",
            " [-18.99554225]\n",
            " [-12.44300139]]\n",
            "db: -0.1774193548387097\n",
            "Cost: 0.6931471805599453\n"
          ]
        }
      ]
    },
    {
      "cell_type": "markdown",
      "source": [
        "Task 6"
      ],
      "metadata": {
        "id": "tF6sOpvKUGx2"
      }
    },
    {
      "cell_type": "code",
      "source": [
        "def model_fit(w, b, X, Y, learning_rate, num_iterations):\n",
        "    costs = []\n",
        "\n",
        "    for i in range(num_iterations):\n",
        "        grads, cost = model_optimize(w, b, X, Y)\n",
        "\n",
        "        dw = grads[\"dw\"]\n",
        "        db = grads[\"db\"]\n",
        "\n",
        "        w = w - learning_rate * dw\n",
        "        b = b - learning_rate * db\n",
        "\n",
        "        if i % 10 == 0:\n",
        "            costs.append(cost)\n",
        "\n",
        "    coeff = {\"w\": w, \"b\": b}\n",
        "\n",
        "    return coeff, costs\n",
        "\n",
        "X1 = df.drop('class', axis=1).values.T  # Transpose X to match the shape (n_features, m)\n",
        "Y1 = df['class'].values\n",
        "\n",
        "n_features = X1.shape[0]  # Number of features\n",
        "w, b = weightInitialization(n_features)\n",
        "\n",
        "# Hyperparameters\n",
        "learning_rate = 0.0001\n",
        "num_iterations = 1000\n",
        "\n",
        "# Call the model_fit function\n",
        "coeff, costs = model_fit(w, b, X1, Y1, learning_rate, num_iterations)\n",
        "\n",
        "# Print the final weights and bias\n",
        "print(\"Final weights (w):\", coeff[\"w\"])\n",
        "print(\"Final bias (b):\", coeff[\"b\"])\n",
        "\n",
        "# Print the list of costs for each epoch\n",
        "print(\"Costs for each epoch:\", costs)\n"
      ],
      "metadata": {
        "colab": {
          "base_uri": "https://localhost:8080/"
        },
        "id": "vt9r6t6dUH7U",
        "outputId": "b698ef19-9ec8-4639-bace-d41ba585e848"
      },
      "execution_count": 108,
      "outputs": [
        {
          "output_type": "stream",
          "name": "stdout",
          "text": [
            "Final weights (w): [[ 0.0169356 ]\n",
            " [ 0.04033625]\n",
            " [-0.01090524]\n",
            " [-0.02340065]\n",
            " [-0.00618501]\n",
            " [ 0.10130476]]\n",
            "Final bias (b): 0.0008127171260219479\n",
            "Costs for each epoch: [0.6931471805599453, 0.5647103658538262, 0.5309625168060688, 0.5075450575009808, 0.49051854610071816, 0.4776373934695636, 0.46755300914206066, 0.4594219163103625, 0.45269706795825526, 0.44701202841080384, 0.44211425180961256, 0.43782526531763616, 0.434016120415465, 0.43059180195743857, 0.42748105787713864, 0.4246296034541847, 0.42199548129240044, 0.4195458310279238, 0.41725460073166437, 0.41510089961661495, 0.4130677952143247, 0.4111414235666395, 0.40931032310082727, 0.407564930502285, 0.4058971953578846, 0.4043002828645587, 0.402768342517224, 0.4012963267048326, 0.3998798473937957, 0.398515062117258, 0.39719858268583536, 0.3959274016401186, 0.3946988326485094, 0.39351046193431916, 0.39236010847655856, 0.3912457912283291, 0.39016570197720407, 0.3891181827638662, 0.38810170700060037, 0.3871148636063012, 0.3861563436114093, 0.3852249287936262, 0.38431948199007077, 0.3834389387988292, 0.3825823004364638, 0.3817486275609581, 0.3809370349040507, 0.38014668658471595, 0.3793767919980567, 0.3786266021921524, 0.3778954066603008, 0.37718253048826306, 0.3764873318061004, 0.37580919950239283, 0.3751475511653904, 0.3745018312212358, 0.37387150924402457, 0.3732560784163161, 0.3726550541219095, 0.3720679726553713, 0.3714943900350371, 0.3709338809080867, 0.3703860375378679, 0.36985046886497447, 0.3693267996347054, 0.3688146695844879, 0.3683137326856497, 0.3678236564346205, 0.3673441211892255, 0.36687481954624085, 0.3664154557568132, 0.36596574517671593, 0.3655254137487404, 0.3650941975147979, 0.36467184215555004, 0.364258102555602, 0.3638527423924718, 0.3634555337477189, 0.36306625673875537, 0.36268469916999124, 0.36231065620207775, 0.3619439300381163, 0.3615843296257865, 0.3612316703744295, 0.36088577388619636, 0.36054646770043575, 0.36021358505055295, 0.3598869646326307, 0.3595664503851448, 0.35925189127915896, 0.3589431411184195, 0.35864005834881, 0.35834250587666105, 0.3580503508954401, 0.35776346472037845, 0.3574817226306176, 0.3572050037184831, 0.3569331907455168, 0.35666617000492196, 0.35640383119009367]\n"
          ]
        }
      ]
    },
    {
      "cell_type": "markdown",
      "source": [
        "Task 7"
      ],
      "metadata": {
        "id": "UKlm3KJCfmMD"
      }
    },
    {
      "cell_type": "code",
      "source": [
        "import pandas as pd\n",
        "import numpy as np\n",
        "from sklearn.model_selection import train_test_split\n",
        "from sklearn.metrics import accuracy_score\n",
        "\n",
        "# Split the data into train and test sets (70:30 ratio)\n",
        "X2 = df.drop('class', axis=1).values\n",
        "Y2 = df['class'].values\n",
        "X_train, X_test, Y_train, Y_test = train_test_split(X2, Y2, test_size=0.3, random_state=42)\n",
        "\n",
        "# Initialize weights and bias for training\n",
        "n_features = X_train.shape[1]\n",
        "w, b = weightInitialization(n_features)\n",
        "\n",
        "# Hyperparameters\n",
        "learning_rate = 0.0001\n",
        "num_iterations = 1000\n",
        "\n",
        "# Train the model and get the best weights and bias\n",
        "coeff, costs = model_fit(w, b, X_train.T, Y_train, learning_rate, num_iterations)\n",
        "\n",
        "# Get the best weights and bias from the trained model\n",
        "w_best = coeff[\"w\"]\n",
        "b_best = coeff[\"b\"]\n",
        "\n",
        "# Make predictions for the test dataset\n",
        "Z_test = np.dot(w_best.T, X_test.T) + b_best\n",
        "A_test = sigmoid_activation(Z_test)\n",
        "Y_pred = np.where(A_test ==1, \"Abnormal\", \"Normal\")  # Convert to 0 and 1\n",
        "# print(\"Y_test shape:\", Y_test.shape)\n",
        "# print(\"Y_pred shape:\", Y_pred.shape)\n",
        "\n",
        "Y_pred = Y_pred.reshape(-1)\n",
        "\n",
        "# Calculate the accuracy score\n",
        "accuracy = accuracy_score(Y_test, Y_pred)\n",
        "print(\"Accuracy Score:\", accuracy)\n",
        "\n"
      ],
      "metadata": {
        "id": "6csQegv6flfS",
        "colab": {
          "base_uri": "https://localhost:8080/"
        },
        "outputId": "1818ce41-b207-44ce-cd34-ccd9ead2fb36"
      },
      "execution_count": 114,
      "outputs": [
        {
          "output_type": "stream",
          "name": "stdout",
          "text": [
            "Accuracy Score: 0.25806451612903225\n"
          ]
        }
      ]
    },
    {
      "cell_type": "markdown",
      "source": [
        "Task 8"
      ],
      "metadata": {
        "id": "UiJCSA8cqbA6"
      }
    },
    {
      "cell_type": "code",
      "source": [
        "import matplotlib.pyplot as plt\n",
        "\n",
        "\n",
        "# Create a list of epoch numbers\n",
        "epochs = range(len(costs))\n",
        "\n",
        "# Plot the cost vs. epoch curve\n",
        "plt.plot(epochs, costs, marker='o', linestyle='-', color='b')\n",
        "plt.xlabel('Epoch')\n",
        "plt.ylabel('Cost')\n",
        "plt.title('Cost vs. Epoch')\n",
        "plt.grid(True)\n",
        "plt.show()\n"
      ],
      "metadata": {
        "colab": {
          "base_uri": "https://localhost:8080/",
          "height": 472
        },
        "id": "uq1fATSDqcTj",
        "outputId": "446fdf5c-22b5-4ad3-d35b-91234284b103"
      },
      "execution_count": 113,
      "outputs": [
        {
          "output_type": "display_data",
          "data": {
            "text/plain": [
              "<Figure size 640x480 with 1 Axes>"
            ],
            "image/png": "[encoded data removed]"
          },
          "metadata": {}
        }
      ]
    },
    {
      "cell_type": "markdown",
      "source": [
        "Task 9"
      ],
      "metadata": {
        "id": "kqEKkvqHqrZD"
      }
    },
    {
      "cell_type": "code",
      "source": [
        "import pandas as pd\n",
        "import numpy as np\n",
        "from sklearn.model_selection import train_test_split\n",
        "from sklearn.metrics import accuracy_score\n",
        "\n",
        "X = df.drop('class', axis=1).values\n",
        "Y = df['class'].values\n",
        "\n",
        "# Varying percentages of training data\n",
        "percentages = [0.1, 0.2, 0.3, 0.4, 0.5, 0.6, 0.7, 0.8, 0.9]\n",
        "\n",
        "# Initialize a list to store accuracy scores for each percentage\n",
        "accuracy_scores = []\n",
        "\n",
        "for percentage in percentages:\n",
        "    # Split the data into train and test sets with the specified percentage\n",
        "    X_train, X_test, Y_train, Y_test = train_test_split(X, Y, test_size=1 - percentage, random_state=42)\n",
        "\n",
        "    # Initialize weights and bias for training\n",
        "    n_features = X_train.shape[1]\n",
        "    w, b = weightInitialization(n_features)\n",
        "\n",
        "    # Hyperparameters\n",
        "    learning_rate = 0.0001\n",
        "    num_iterations = 1000\n",
        "\n",
        "    # Train the model and get the best weights and bias\n",
        "    coeff, _ = model_fit(w, b, X_train.T, Y_train, learning_rate, num_iterations)\n",
        "\n",
        "    # Get the best weights and bias from the trained model\n",
        "    w_best = coeff[\"w\"]\n",
        "    b_best = coeff[\"b\"]\n",
        "\n",
        "    # Make predictions for the test dataset\n",
        "    Z_test = np.dot(w_best.T, X_test.T) + b_best\n",
        "    A_test = sigmoid_activation(Z_test)\n",
        "\n",
        "    # Convert A_test to binary labels (0 or 1)\n",
        "    Y_pred = np.where(A_test== 1, \"Abnormal\",\"Normal\")\n",
        "    Y_pred = Y_pred.reshape(-1)\n",
        "\n",
        "    # Calculate the accuracy score and store it\n",
        "    accuracy = accuracy_score(Y_test, Y_pred)\n",
        "    accuracy_scores.append(accuracy)\n",
        "\n",
        "# Print accuracy scores for different percentages\n",
        "for i, percentage in enumerate(percentages):\n",
        "    print(f\"Accuracy for {int(percentage * 100)}% of the training data: {accuracy_scores[i]:.4f}\")\n"
      ],
      "metadata": {
        "colab": {
          "base_uri": "https://localhost:8080/"
        },
        "id": "aHIFYvumqshQ",
        "outputId": "d39182a9-d4f7-49a4-ba33-22a436d057c0"
      },
      "execution_count": 115,
      "outputs": [
        {
          "output_type": "stream",
          "name": "stdout",
          "text": [
            "Accuracy for 10% of the training data: 0.3297\n",
            "Accuracy for 20% of the training data: 0.3266\n",
            "Accuracy for 30% of the training data: 0.3134\n",
            "Accuracy for 40% of the training data: 0.2957\n",
            "Accuracy for 50% of the training data: 0.2968\n",
            "Accuracy for 60% of the training data: 0.2661\n",
            "Accuracy for 70% of the training data: 0.2660\n",
            "Accuracy for 80% of the training data: 0.2903\n",
            "Accuracy for 90% of the training data: 0.2581\n"
          ]
        }
      ]
    },
    {
      "cell_type": "markdown",
      "source": [
        "Task 10"
      ],
      "metadata": {
        "id": "Dnix4X3wu0OA"
      }
    },
    {
      "cell_type": "code",
      "source": [
        "import numpy as np\n",
        "\n",
        "\n",
        "def model_optimize_with_regularization(w, b, X, Y, reg=None, lambd=0.1):\n",
        "    m = X.shape[1]  # Number of data points\n",
        "\n",
        "    Z = np.dot(w.T, X) + b\n",
        "    A = sigmoid_activation(Z)\n",
        "\n",
        "\n",
        "    Y_binary = np.where(Y == \"Abnormal\", 1, 0).reshape(1, -1)  # Reshape to (1, m)\n",
        "\n",
        "    # Calculate the cost with regularization\n",
        "    if reg is None:\n",
        "        cost = -1/m * np.sum(Y_binary * np.log(A) + (1 - Y_binary) * np.log(1 - A))\n",
        "    else:\n",
        "        # Regularization term\n",
        "        reg_term = (lambd / (2 * m)) * np.sum(w**2)\n",
        "\n",
        "        cost = (-1/m * np.sum(Y_binary * np.log(A) + (1 - Y_binary) * np.log(1 - A))) + reg_term\n",
        "\n",
        "    dw = 1/m * np.dot(X, (A - Y_binary).T)\n",
        "    db = 1/m * np.sum(A - Y_binary)\n",
        "\n",
        "    if reg is not None:\n",
        "        # Gradient regularization term\n",
        "        dw += (lambd / m) * w\n",
        "\n",
        "    grads = {\"dw\": dw, \"db\": db}\n",
        "\n",
        "    return grads, cost\n",
        "\n",
        "\n",
        "X = df.drop('class', axis=1).values.T  # Transpose X to match the shape (n_features, m)\n",
        "Y = df['class'].values\n",
        "\n",
        "n_features = X.shape[0]  # Number of features\n",
        "w, b = weightInitialization(n_features)\n",
        "\n",
        "\n",
        "#model_optimize function\n",
        "grads, cost = model_optimize_with_regularization(w, b, X, Y)\n",
        "\n",
        "# Print gradients and cost\n",
        "print(\"Gradients:\")\n",
        "print(\"dw:\", grads[\"dw\"])\n",
        "print(\"db:\", grads[\"db\"])\n",
        "print(\"Cost:\", cost)\n",
        "\n"
      ],
      "metadata": {
        "colab": {
          "base_uri": "https://localhost:8080/"
        },
        "id": "ZDcHEA6Pu3KP",
        "outputId": "926e0e01-ea6e-4d38-decf-d239bf852774"
      },
      "execution_count": 116,
      "outputs": [
        {
          "output_type": "stream",
          "name": "stdout",
          "text": [
            "Gradients:\n",
            "dw: [[-13.57566697]\n",
            " [ -4.63547089]\n",
            " [-11.91946324]\n",
            " [ -8.94019608]\n",
            " [-18.99554225]\n",
            " [-12.44300139]]\n",
            "db: -0.1774193548387097\n",
            "Cost: 0.6931471805599453\n"
          ]
        }
      ]
    },
    {
      "cell_type": "markdown",
      "source": [
        "Task 11"
      ],
      "metadata": {
        "id": "IZk1HnkjwQyo"
      }
    },
    {
      "cell_type": "code",
      "source": [
        "import pandas as pd\n",
        "import numpy as np\n",
        "from sklearn.model_selection import train_test_split\n",
        "from sklearn.metrics import accuracy_score\n",
        "\n",
        "# Initialize a DataFrame to store results\n",
        "results_df = pd.DataFrame(columns=[\"Epochs\", \"Regularization\", \"Lambda\", \"Test Accuracy\"])\n",
        "\n",
        "epochs_list = [100, 500, 1000]\n",
        "regularization_list = [\"None\", \"L1\", \"L2\"]\n",
        "lambda_list = [0.01, 0.1, 1.0]\n",
        "\n",
        "X = df.drop('class', axis=1).values  # Do not transpose X\n",
        "Y = df['class'].values\n",
        "\n",
        "for epochs in epochs_list:\n",
        "    for regularization in regularization_list:\n",
        "        for lambd in lambda_list:\n",
        "            X_train, X_test, Y_train, Y_test = train_test_split(X, Y, test_size=0.3, random_state=42)\n",
        "\n",
        "            n_features = X_train.shape[1]\n",
        "            w, b = weightInitialization(n_features)\n",
        "\n",
        "            # Hyperparameters\n",
        "            learning_rate = 0.0001\n",
        "\n",
        "            # Train the model for the specified number of epochs\n",
        "            coeff, _ = model_fit(w, b, X_train.T, Y_train, learning_rate, epochs)\n",
        "\n",
        "            # Get the best weights and bias from the trained model\n",
        "            w_best = coeff[\"w\"]\n",
        "            b_best = coeff[\"b\"]\n",
        "\n",
        "            # Make predictions for the test dataset\n",
        "            Z_test = np.dot(w_best.T, X_test.T) + b_best\n",
        "            A_test = sigmoid_activation(Z_test)\n",
        "\n",
        "            # Convert A_test to binary labels (0 or 1)\n",
        "            Y_pred = np.where(A_test == 1, \"Abnormal\", \"Normal\")\n",
        "            Y_pred = Y_pred.reshape(-1)\n",
        "\n",
        "            # Calculate the test accuracy\n",
        "            test_accuracy = accuracy_score(Y_test, Y_pred)\n",
        "\n",
        "            # Append the results to a temporary DataFrame\n",
        "            temp_df = pd.DataFrame({\"Epochs\": epochs, \"Regularization\": regularization, \"Lambda\": lambd, \"Test Accuracy\": test_accuracy}, index=[0])\n",
        "\n",
        "            # Concatenate the temporary DataFrame to the results DataFrame\n",
        "            results_df = pd.concat([results_df, temp_df], ignore_index=True)\n",
        "\n",
        "print(results_df)\n"
      ],
      "metadata": {
        "colab": {
          "base_uri": "https://localhost:8080/"
        },
        "id": "Zyuh0yMyw4yw",
        "outputId": "cec372e4-18f8-4148-87d1-817a2004bb55"
      },
      "execution_count": 117,
      "outputs": [
        {
          "output_type": "stream",
          "name": "stdout",
          "text": [
            "   Epochs Regularization  Lambda  Test Accuracy\n",
            "0     100           None    0.01       0.258065\n",
            "1     100           None    0.10       0.258065\n",
            "2     100           None    1.00       0.258065\n",
            "3     100             L1    0.01       0.258065\n",
            "4     100             L1    0.10       0.258065\n",
            "5     100             L1    1.00       0.258065\n",
            "6     100             L2    0.01       0.258065\n",
            "7     100             L2    0.10       0.258065\n",
            "8     100             L2    1.00       0.258065\n",
            "9     500           None    0.01       0.258065\n",
            "10    500           None    0.10       0.258065\n",
            "11    500           None    1.00       0.258065\n",
            "12    500             L1    0.01       0.258065\n",
            "13    500             L1    0.10       0.258065\n",
            "14    500             L1    1.00       0.258065\n",
            "15    500             L2    0.01       0.258065\n",
            "16    500             L2    0.10       0.258065\n",
            "17    500             L2    1.00       0.258065\n",
            "18   1000           None    0.01       0.258065\n",
            "19   1000           None    0.10       0.258065\n",
            "20   1000           None    1.00       0.258065\n",
            "21   1000             L1    0.01       0.258065\n",
            "22   1000             L1    0.10       0.258065\n",
            "23   1000             L1    1.00       0.258065\n",
            "24   1000             L2    0.01       0.258065\n",
            "25   1000             L2    0.10       0.258065\n",
            "26   1000             L2    1.00       0.258065\n"
          ]
        }
      ]
    },
    {
      "cell_type": "markdown",
      "source": [
        "Task 12"
      ],
      "metadata": {
        "id": "FkHhYHxTzGqW"
      }
    },
    {
      "cell_type": "code",
      "source": [
        "import pandas as pd\n",
        "from sklearn.model_selection import train_test_split\n",
        "from sklearn.linear_model import LogisticRegression\n",
        "from sklearn.metrics import accuracy_score\n",
        "\n",
        "X_train, X_test, Y_train, Y_test = train_test_split(X, Y, test_size=0.3, random_state=42)\n",
        "\n",
        "# Create an instance of the LogisticRegression model\n",
        "model = LogisticRegression()\n",
        "\n",
        "model.fit(X_train, Y_train)\n",
        "\n",
        "Y_pred = model.predict(X_test)\n",
        "\n",
        "# n_features = X_train.shape[1]\n",
        "# w, b = weightInitialization(n_features)\n",
        "\n",
        "# # Hyperparameters\n",
        "# learning_rate = 0.0001\n",
        "# epochs = 100\n",
        "\n",
        "# coeff, _ = model_fit(w, b, X_train.T, Y_train, learning_rate, epochs)\n",
        "\n",
        "# w_best = coeff[\"w\"]\n",
        "# b_best = coeff[\"b\"]\n",
        "\n",
        "# Z_test = np.dot(w_best.T, X_test.T) + b_best\n",
        "# A_test = sigmoid_activation(Z_test)\n",
        "\n",
        "# # Convert A_test to binary labels (0 or 1)\n",
        "# Y_pred = np.where(A_test == 1, \"Abnormal\", \"Normal\")\n",
        "# Y_pred = Y_pred.reshape(-1)\n",
        "# # Calculate the accuracy score\n",
        "accuracy = accuracy_score(Y_test, Y_pred)\n",
        "\n",
        "print(\"Accuracy Score:\", accuracy)\n"
      ],
      "metadata": {
        "colab": {
          "base_uri": "https://localhost:8080/"
        },
        "id": "Oi3ZSysvzI5q",
        "outputId": "87c2e13d-0eeb-455a-b67b-f6b665ce882c"
      },
      "execution_count": 126,
      "outputs": [
        {
          "output_type": "stream",
          "name": "stdout",
          "text": [
            "Accuracy Score: 0.8817204301075269\n"
          ]
        }
      ]
    },
    {
      "cell_type": "markdown",
      "source": [
        "Task 13"
      ],
      "metadata": {
        "id": "bDrjd3n6zaeP"
      }
    },
    {
      "cell_type": "code",
      "source": [
        "import pandas as pd\n",
        "from sklearn.model_selection import train_test_split\n",
        "from sklearn.tree import DecisionTreeClassifier\n",
        "from sklearn.metrics import accuracy_score\n",
        "\n",
        "# Split the data into training and testing sets\n",
        "# X_train, X_test, Y_train, Y_test = train_test_split(X, Y, test_size=0.3, random_state=42)\n",
        "\n",
        "# Create an instance of the DecisionTreeClassifier model\n",
        "model = DecisionTreeClassifier()\n",
        "\n",
        "# Fit the model to the training data\n",
        "model.fit(X_train, Y_train)\n",
        "\n",
        "# Make predictions on the test data\n",
        "Y_pred = model.predict(X_test)\n",
        "\n",
        "# Calculate the accuracy score\n",
        "accuracy = accuracy_score(Y_test, Y_pred)\n",
        "\n",
        "print(\"Accuracy Score:\", accuracy)\n"
      ],
      "metadata": {
        "colab": {
          "base_uri": "https://localhost:8080/"
        },
        "id": "9U2jKPdszcGz",
        "outputId": "0dc3cb43-46a2-40ba-a8f6-d39bce23277a"
      },
      "execution_count": 127,
      "outputs": [
        {
          "output_type": "stream",
          "name": "stdout",
          "text": [
            "Accuracy Score: 0.8064516129032258\n"
          ]
        }
      ]
    },
    {
      "cell_type": "markdown",
      "source": [
        "Task 14"
      ],
      "metadata": {
        "id": "J_7WyfoCzkYE"
      }
    },
    {
      "cell_type": "code",
      "source": [
        "import pandas as pd\n",
        "from sklearn.model_selection import train_test_split\n",
        "from sklearn.naive_bayes import GaussianNB\n",
        "from sklearn.metrics import accuracy_score\n",
        "\n",
        "# Split the data into training and testing sets\n",
        "X_train, X_test, Y_train, Y_test = train_test_split(X, Y, test_size=0.3, random_state=42)\n",
        "\n",
        "# Create an instance of the Gaussian Naive Bayes model\n",
        "model = GaussianNB()\n",
        "\n",
        "# Fit the model to the training data\n",
        "model.fit(X_train, Y_train)\n",
        "\n",
        "# Make predictions on the test data\n",
        "Y_pred = model.predict(X_test)\n",
        "\n",
        "# Calculate the accuracy score\n",
        "accuracy = accuracy_score(Y_test, Y_pred)\n",
        "\n",
        "print(\"Accuracy Score:\", accuracy)\n"
      ],
      "metadata": {
        "colab": {
          "base_uri": "https://localhost:8080/"
        },
        "id": "AXz0d0yjzlnT",
        "outputId": "766139e1-7b8b-4cd3-eb52-2ceb35e74658"
      },
      "execution_count": 128,
      "outputs": [
        {
          "output_type": "stream",
          "name": "stdout",
          "text": [
            "Accuracy Score: 0.7956989247311828\n"
          ]
        }
      ]
    }
  ]
}